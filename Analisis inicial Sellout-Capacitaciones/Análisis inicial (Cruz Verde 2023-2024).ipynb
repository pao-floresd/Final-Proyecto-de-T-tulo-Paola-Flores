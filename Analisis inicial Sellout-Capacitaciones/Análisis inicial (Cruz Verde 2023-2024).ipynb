{
 "cells": [
  {
   "cell_type": "markdown",
   "id": "5dd2750f",
   "metadata": {},
   "source": [
    "El presente código está ordenado en orden cronológico en cuanto a su creación. Las métricas en las que se centró el informe y presentación son las últimas en el Script."
   ]
  },
  {
   "cell_type": "markdown",
   "id": "05ca6477",
   "metadata": {},
   "source": [
    "Importamos las librerías y los datos a utilizar"
   ]
  },
  {
   "cell_type": "code",
   "execution_count": 667,
   "id": "d82d14a9",
   "metadata": {},
   "outputs": [],
   "source": [
    "import pandas as pd\n",
    "import numpy as np\n",
    "import locale\n",
    "from unidecode import unidecode\n",
    "locale.setlocale(locale.LC_TIME, \"es_ES.UTF-8\")\n",
    "from scipy.stats import pearsonr\n",
    "import statsmodels.api as sm\n",
    "import seaborn as sns\n",
    "import matplotlib.pyplot as plt\n",
    "from scipy.optimize import curve_fit\n",
    "\n",
    "\n",
    "abril = pd.read_excel(\"REGISTRO DE ASISTENCIA PUIG 10 ABRIL.xlsx\")\n",
    "julio = pd.read_excel(\"REGISTRO DE ASISTENCIA CB  07 JULIO.xlsx\")\n",
    "agosto = pd.read_excel(\"REGISTRO DE ASISTENCIA CB PUIG 07 AGOSTO.xlsx\")\n",
    "mensuales = pd.read_csv(\"Ventas mensuales E23-E25.csv\", sep = \";\", encoding=\"latin1\")"
   ]
  },
  {
   "cell_type": "markdown",
   "id": "6c922593",
   "metadata": {},
   "source": [
    "Pre-procesamiento dataframe asistencias"
   ]
  },
  {
   "cell_type": "code",
   "execution_count": 668,
   "id": "498b8a56",
   "metadata": {},
   "outputs": [
    {
     "data": {
      "text/html": [
       "<div>\n",
       "<style scoped>\n",
       "    .dataframe tbody tr th:only-of-type {\n",
       "        vertical-align: middle;\n",
       "    }\n",
       "\n",
       "    .dataframe tbody tr th {\n",
       "        vertical-align: top;\n",
       "    }\n",
       "\n",
       "    .dataframe thead th {\n",
       "        text-align: right;\n",
       "    }\n",
       "</style>\n",
       "<table border=\"1\" class=\"dataframe\">\n",
       "  <thead>\n",
       "    <tr style=\"text-align: right;\">\n",
       "      <th></th>\n",
       "      <th>Número Local</th>\n",
       "      <th>Región</th>\n",
       "      <th>Nombre y Apellido</th>\n",
       "      <th>Cargo</th>\n",
       "      <th>Mes</th>\n",
       "    </tr>\n",
       "  </thead>\n",
       "  <tbody>\n",
       "    <tr>\n",
       "      <th>0</th>\n",
       "      <td>3</td>\n",
       "      <td>05 - Valparaíso</td>\n",
       "      <td>SANDRA VICENCIO</td>\n",
       "      <td>Consultora de Belleza Trainee</td>\n",
       "      <td>Abril</td>\n",
       "    </tr>\n",
       "    <tr>\n",
       "      <th>1</th>\n",
       "      <td>9</td>\n",
       "      <td>05 - Valparaíso</td>\n",
       "      <td>INGRID DIAZ</td>\n",
       "      <td>Consultora de Belleza Trainee</td>\n",
       "      <td>Abril</td>\n",
       "    </tr>\n",
       "    <tr>\n",
       "      <th>2</th>\n",
       "      <td>15</td>\n",
       "      <td>05 - Valparaíso</td>\n",
       "      <td>ANAIS ASTUDILLO</td>\n",
       "      <td>Consultora de Belleza Trainee</td>\n",
       "      <td>Abril</td>\n",
       "    </tr>\n",
       "    <tr>\n",
       "      <th>3</th>\n",
       "      <td>15</td>\n",
       "      <td>05 - Valparaíso</td>\n",
       "      <td>HELIA GONZALEZ</td>\n",
       "      <td>Consultora de Belleza Trainee</td>\n",
       "      <td>Abril</td>\n",
       "    </tr>\n",
       "    <tr>\n",
       "      <th>4</th>\n",
       "      <td>18</td>\n",
       "      <td>05 - Valparaíso</td>\n",
       "      <td>BARBARA CORDOVA</td>\n",
       "      <td>Consultora de Belleza Trainee</td>\n",
       "      <td>Abril</td>\n",
       "    </tr>\n",
       "    <tr>\n",
       "      <th>...</th>\n",
       "      <td>...</td>\n",
       "      <td>...</td>\n",
       "      <td>...</td>\n",
       "      <td>...</td>\n",
       "      <td>...</td>\n",
       "    </tr>\n",
       "    <tr>\n",
       "      <th>142</th>\n",
       "      <td>1096</td>\n",
       "      <td>13 - Metropolitana de Santiago</td>\n",
       "      <td>AURORA CANCINO</td>\n",
       "      <td>Consultora de Belleza Trainee</td>\n",
       "      <td>Agosto</td>\n",
       "    </tr>\n",
       "    <tr>\n",
       "      <th>143</th>\n",
       "      <td>1099</td>\n",
       "      <td>14 - Los Ríos</td>\n",
       "      <td>BELEN AMPUERO</td>\n",
       "      <td>Consultora de Belleza Trainee</td>\n",
       "      <td>Agosto</td>\n",
       "    </tr>\n",
       "    <tr>\n",
       "      <th>144</th>\n",
       "      <td>1106</td>\n",
       "      <td>07 - Maule</td>\n",
       "      <td>CECILIA PENA</td>\n",
       "      <td>Consultora de Belleza Trainee</td>\n",
       "      <td>Agosto</td>\n",
       "    </tr>\n",
       "    <tr>\n",
       "      <th>145</th>\n",
       "      <td>1124</td>\n",
       "      <td>13 - Metropolitana de Santiago</td>\n",
       "      <td>ROMINA GHIRARDELLI</td>\n",
       "      <td>Consultora de belleza Reemplazo</td>\n",
       "      <td>Agosto</td>\n",
       "    </tr>\n",
       "    <tr>\n",
       "      <th>146</th>\n",
       "      <td>1133</td>\n",
       "      <td>10 - Los Lagos</td>\n",
       "      <td>PATRICIA GODOY AGUERO</td>\n",
       "      <td>Consultora de Belleza Trainee</td>\n",
       "      <td>Agosto</td>\n",
       "    </tr>\n",
       "  </tbody>\n",
       "</table>\n",
       "<p>435 rows × 5 columns</p>\n",
       "</div>"
      ],
      "text/plain": [
       "    Número Local                          Región      Nombre y Apellido  \\\n",
       "0              3                 05 - Valparaíso        SANDRA VICENCIO   \n",
       "1              9                 05 - Valparaíso            INGRID DIAZ   \n",
       "2             15                 05 - Valparaíso        ANAIS ASTUDILLO   \n",
       "3             15                 05 - Valparaíso         HELIA GONZALEZ   \n",
       "4             18                 05 - Valparaíso        BARBARA CORDOVA   \n",
       "..           ...                             ...                    ...   \n",
       "142         1096  13 - Metropolitana de Santiago         AURORA CANCINO   \n",
       "143         1099                   14 - Los Ríos          BELEN AMPUERO   \n",
       "144         1106                      07 - Maule           CECILIA PENA   \n",
       "145         1124  13 - Metropolitana de Santiago     ROMINA GHIRARDELLI   \n",
       "146         1133                  10 - Los Lagos  PATRICIA GODOY AGUERO   \n",
       "\n",
       "                               Cargo     Mes  \n",
       "0      Consultora de Belleza Trainee   Abril  \n",
       "1      Consultora de Belleza Trainee   Abril  \n",
       "2      Consultora de Belleza Trainee   Abril  \n",
       "3      Consultora de Belleza Trainee   Abril  \n",
       "4      Consultora de Belleza Trainee   Abril  \n",
       "..                               ...     ...  \n",
       "142    Consultora de Belleza Trainee  Agosto  \n",
       "143    Consultora de Belleza Trainee  Agosto  \n",
       "144    Consultora de Belleza Trainee  Agosto  \n",
       "145  Consultora de belleza Reemplazo  Agosto  \n",
       "146    Consultora de Belleza Trainee  Agosto  \n",
       "\n",
       "[435 rows x 5 columns]"
      ]
     },
     "execution_count": 668,
     "metadata": {},
     "output_type": "execute_result"
    }
   ],
   "source": [
    "asistencia_cv_abril = pd.DataFrame(abril).dropna()\n",
    "asistencia_cv_julio = pd.DataFrame(julio).dropna()\n",
    "asistencia_cv_agosto = pd.DataFrame(agosto).dropna()\n",
    "\n",
    "asistencia_cv_julio = asistencia_cv_julio.rename(columns={\"Unnamed: 0\": \"Número Local\"})\n",
    "\n",
    "\n",
    "asistencia_cv_abril['Mes'] = 'Abril'\n",
    "asistencia_cv_julio['Mes'] = 'Julio'\n",
    "asistencia_cv_agosto['Mes'] = 'Agosto'\n",
    "\n",
    "\n",
    "asistencias_cv = pd.concat([asistencia_cv_abril, asistencia_cv_julio, asistencia_cv_agosto])\n",
    "\n",
    "asistencias_cv['Nombre y Apellido'] = asistencias_cv['Nombre y Apellido'].str.strip().str.upper().apply(unidecode) #quitamos espacios, ponemos mayúsculas y quitamos carácteres especiales\n",
    "asistencias_cv['Número Local'] = asistencias_cv['Número Local'].astype(str) #transformamos a string ya que es un código\n",
    "\n",
    "\n",
    "mapping = { #para que todas las regiones tengan el mismo formato\n",
    "    \"I - Tarapacá\": \"01 - Tarapacá\",\n",
    "    \"II - Antofagasta\": \"02 - Antofagasta\",\n",
    "    \"III - Atacama\": \"03 - Atacama\",\n",
    "    \"IV - Coquimbo\": \"04 - Coquimbo\",\n",
    "    \"V - Valparaíso\": \"05 - Valparaíso\",\n",
    "    \"VI - Libertador Bernardo O'Higgins\": \"06 - Libertador General Bernardo OHiggins\",\n",
    "    \"VII - Maule\": \"07 - Maule\",\n",
    "    \"VIII - Bio Bio\": \"08 - Biobío\",\n",
    "    \"IX - Araucanía\": \"09 - La Araucanía\",\n",
    "    \"X - Los Lagos\": \"10 - Los Lagos\",\n",
    "    \"XI - Aysén\": \"11 - Aysén del General Carlos Ibañez del Campo\",\n",
    "    \"XII - Magallanes\": \"12 - Magallanes y de la Antártica Chilena\",\n",
    "    \"RM - Metropolitana\": \"13 - Metropolitana de Santiago\",\n",
    "    \"XIV - Los Ríos\": \"14 - Los Ríos\",\n",
    "    \"XV - Arica y Parinacota\": \"15 - Arica y Parinacota\",\n",
    "    \"XVI - Ñuble\": \"16 - Ñuble\"\n",
    "}\n",
    "\n",
    "asistencias_cv[\"Región\"] = asistencias_cv[\"Región\"].map(mapping)\n",
    "\n",
    "asistencias_cv.loc[asistencias_cv[\"Número Local\"].isin([\"1020\", \"162\", \"164\", \"165\", \"350\", \"9044\", \"9069\", \"9093\", \"978\"]), \"Región\"] = \"16 - Ñuble\" #corrección de datos\n",
    "\n",
    "\n",
    "asistencias_cv"
   ]
  },
  {
   "cell_type": "markdown",
   "id": "620a06e2",
   "metadata": {},
   "source": [
    "Pre-procesamiento dataframe ventas"
   ]
  },
  {
   "cell_type": "code",
   "execution_count": 669,
   "id": "b4a2e6ff",
   "metadata": {},
   "outputs": [
    {
     "data": {
      "text/html": [
       "<div>\n",
       "<style scoped>\n",
       "    .dataframe tbody tr th:only-of-type {\n",
       "        vertical-align: middle;\n",
       "    }\n",
       "\n",
       "    .dataframe tbody tr th {\n",
       "        vertical-align: top;\n",
       "    }\n",
       "\n",
       "    .dataframe thead th {\n",
       "        text-align: right;\n",
       "    }\n",
       "</style>\n",
       "<table border=\"1\" class=\"dataframe\">\n",
       "  <thead>\n",
       "    <tr style=\"text-align: right;\">\n",
       "      <th></th>\n",
       "      <th>Fechas</th>\n",
       "      <th>Región</th>\n",
       "      <th>Comuna</th>\n",
       "      <th>Número Local</th>\n",
       "      <th>Local</th>\n",
       "      <th>Ventas</th>\n",
       "      <th>Mes</th>\n",
       "    </tr>\n",
       "  </thead>\n",
       "  <tbody>\n",
       "    <tr>\n",
       "      <th>812</th>\n",
       "      <td>2023-01-01</td>\n",
       "      <td>01 - Tarapacá</td>\n",
       "      <td>Alto Hospicio</td>\n",
       "      <td>508</td>\n",
       "      <td>0508 Cruz Verde - Av. Chijo 3161, Alto Hospicio</td>\n",
       "      <td>433325.41</td>\n",
       "      <td>Enero</td>\n",
       "    </tr>\n",
       "    <tr>\n",
       "      <th>276</th>\n",
       "      <td>2023-01-01</td>\n",
       "      <td>01 - Tarapacá</td>\n",
       "      <td>Iquique</td>\n",
       "      <td>217</td>\n",
       "      <td>0217 Cruz Verde - Vivar 706-710, Iquique</td>\n",
       "      <td>267227.59</td>\n",
       "      <td>Enero</td>\n",
       "    </tr>\n",
       "    <tr>\n",
       "      <th>277</th>\n",
       "      <td>2023-01-01</td>\n",
       "      <td>01 - Tarapacá</td>\n",
       "      <td>Iquique</td>\n",
       "      <td>211</td>\n",
       "      <td>0211 Cruz Verde - Av. Héroes de la Concepción ...</td>\n",
       "      <td>261636.97</td>\n",
       "      <td>Enero</td>\n",
       "    </tr>\n",
       "    <tr>\n",
       "      <th>278</th>\n",
       "      <td>2023-01-01</td>\n",
       "      <td>01 - Tarapacá</td>\n",
       "      <td>Iquique</td>\n",
       "      <td>1016</td>\n",
       "      <td>1016 Cruz Verde - Teresa Wilms Mont 2263, Iquique</td>\n",
       "      <td>319135.39</td>\n",
       "      <td>Enero</td>\n",
       "    </tr>\n",
       "    <tr>\n",
       "      <th>589</th>\n",
       "      <td>2023-01-01</td>\n",
       "      <td>01 - Tarapacá</td>\n",
       "      <td>Iquique</td>\n",
       "      <td>210</td>\n",
       "      <td>0210 Cruz Verde - Av. Héroes de la Concepción ...</td>\n",
       "      <td>204978.69</td>\n",
       "      <td>Enero</td>\n",
       "    </tr>\n",
       "    <tr>\n",
       "      <th>...</th>\n",
       "      <td>...</td>\n",
       "      <td>...</td>\n",
       "      <td>...</td>\n",
       "      <td>...</td>\n",
       "      <td>...</td>\n",
       "      <td>...</td>\n",
       "      <td>...</td>\n",
       "    </tr>\n",
       "    <tr>\n",
       "      <th>40998</th>\n",
       "      <td>2024-12-01</td>\n",
       "      <td>16 - Ñuble</td>\n",
       "      <td>Chillán</td>\n",
       "      <td>1020</td>\n",
       "      <td>1020 Cruz Verde - Arauco 623, Chillán</td>\n",
       "      <td>243506.13</td>\n",
       "      <td>Diciembre</td>\n",
       "    </tr>\n",
       "    <tr>\n",
       "      <th>41152</th>\n",
       "      <td>2024-12-01</td>\n",
       "      <td>16 - Ñuble</td>\n",
       "      <td>Chillán</td>\n",
       "      <td>9044</td>\n",
       "      <td>9044 Cruz Verde - Maipón 701, Chillán</td>\n",
       "      <td>402669.82</td>\n",
       "      <td>Diciembre</td>\n",
       "    </tr>\n",
       "    <tr>\n",
       "      <th>41189</th>\n",
       "      <td>2024-12-01</td>\n",
       "      <td>16 - Ñuble</td>\n",
       "      <td>Chillán</td>\n",
       "      <td>9069</td>\n",
       "      <td>9069 Cruz Verde - Libertad 1190, Chillán</td>\n",
       "      <td>565208.35</td>\n",
       "      <td>Diciembre</td>\n",
       "    </tr>\n",
       "    <tr>\n",
       "      <th>41317</th>\n",
       "      <td>2024-12-01</td>\n",
       "      <td>16 - Ñuble</td>\n",
       "      <td>Chillán</td>\n",
       "      <td>9093</td>\n",
       "      <td>9093 Cruz Verde - Av. Vicente Méndez 1545, Chi...</td>\n",
       "      <td>966642.95</td>\n",
       "      <td>Diciembre</td>\n",
       "    </tr>\n",
       "    <tr>\n",
       "      <th>40739</th>\n",
       "      <td>2024-12-01</td>\n",
       "      <td>16 - Ñuble</td>\n",
       "      <td>San Carlos</td>\n",
       "      <td>350</td>\n",
       "      <td>0350 Cruz Verde - Serrano 509, San Carlos</td>\n",
       "      <td>13304478.46</td>\n",
       "      <td>Diciembre</td>\n",
       "    </tr>\n",
       "  </tbody>\n",
       "</table>\n",
       "<p>17692 rows × 7 columns</p>\n",
       "</div>"
      ],
      "text/plain": [
       "          Fechas         Región         Comuna Número Local  \\\n",
       "812   2023-01-01  01 - Tarapacá  Alto Hospicio          508   \n",
       "276   2023-01-01  01 - Tarapacá        Iquique          217   \n",
       "277   2023-01-01  01 - Tarapacá        Iquique          211   \n",
       "278   2023-01-01  01 - Tarapacá        Iquique         1016   \n",
       "589   2023-01-01  01 - Tarapacá        Iquique          210   \n",
       "...          ...            ...            ...          ...   \n",
       "40998 2024-12-01     16 - Ñuble        Chillán         1020   \n",
       "41152 2024-12-01     16 - Ñuble        Chillán         9044   \n",
       "41189 2024-12-01     16 - Ñuble        Chillán         9069   \n",
       "41317 2024-12-01     16 - Ñuble        Chillán         9093   \n",
       "40739 2024-12-01     16 - Ñuble     San Carlos          350   \n",
       "\n",
       "                                                   Local       Ventas  \\\n",
       "812      0508 Cruz Verde - Av. Chijo 3161, Alto Hospicio    433325.41   \n",
       "276             0217 Cruz Verde - Vivar 706-710, Iquique    267227.59   \n",
       "277    0211 Cruz Verde - Av. Héroes de la Concepción ...    261636.97   \n",
       "278    1016 Cruz Verde - Teresa Wilms Mont 2263, Iquique    319135.39   \n",
       "589    0210 Cruz Verde - Av. Héroes de la Concepción ...    204978.69   \n",
       "...                                                  ...          ...   \n",
       "40998              1020 Cruz Verde - Arauco 623, Chillán    243506.13   \n",
       "41152              9044 Cruz Verde - Maipón 701, Chillán    402669.82   \n",
       "41189           9069 Cruz Verde - Libertad 1190, Chillán    565208.35   \n",
       "41317  9093 Cruz Verde - Av. Vicente Méndez 1545, Chi...    966642.95   \n",
       "40739          0350 Cruz Verde - Serrano 509, San Carlos  13304478.46   \n",
       "\n",
       "             Mes  \n",
       "812        Enero  \n",
       "276        Enero  \n",
       "277        Enero  \n",
       "278        Enero  \n",
       "589        Enero  \n",
       "...          ...  \n",
       "40998  Diciembre  \n",
       "41152  Diciembre  \n",
       "41189  Diciembre  \n",
       "41317  Diciembre  \n",
       "40739  Diciembre  \n",
       "\n",
       "[17692 rows x 7 columns]"
      ]
     },
     "execution_count": 669,
     "metadata": {},
     "output_type": "execute_result"
    }
   ],
   "source": [
    "ventas_mensuales = pd.DataFrame(mensuales).dropna()\n",
    "\n",
    "mensualesCV = ventas_mensuales.loc[\n",
    "    (ventas_mensuales['Cadena'] == 'Cruz Verde') & \n",
    "    (ventas_mensuales['Online/Offline'] == 'Offline')\n",
    "] \n",
    "#solo Cruz Verde y Offline\n",
    "\n",
    "mensualesCV = mensualesCV.drop([\"Cadena\",\"Código SAP POS\", \"Online/Offline\",\"Canal\"], axis=1) #quitamos columnas redundantes\n",
    "mensualesCV = mensualesCV.rename(columns={\n",
    "    \"Valores PVP c/IVA\": \"Ventas\",\n",
    "    \"Local PUIG\": \"Número Local\"\n",
    "}) #cambiamos nombre de columnas para que coincidan con asistencia_cv\n",
    "\n",
    "mensualesCV['Número Local'] = mensualesCV['Número Local'].astype(str) #transformamos a string ya que es un código\n",
    "\n",
    "#sacamos los \".\" de miles, y cambiamos \",\" por \".\" para que sea un float\n",
    "mensualesCV[\"Ventas\"] = mensualesCV[\"Ventas\"].str.replace(\".\", \"\", regex=False).str.replace(\",\", \".\", regex=False).astype(float)\n",
    "mensualesCV[\"Ventas\"] = pd.to_numeric(mensualesCV[\"Ventas\"]) #para asegurarnos de que queda numerico\n",
    "\n",
    "mensualesCV['Fechas'] = mensualesCV['Fechas'].str.strip() #quitamos espacios\n",
    "mensualesCV[\"Fechas\"] = pd.to_datetime(mensualesCV[\"Fechas\"], format=\"%B %Y\", dayfirst=True)  #convertimos a datetime\n",
    "mensualesCV = mensualesCV[ mensualesCV[\"Fechas\"].dt.year < 2025 ]\n",
    "\n",
    "meses_dict = {\n",
    "    1: \"Enero\",      2: \"Febrero\",   3: \"Marzo\",     4: \"Abril\",\n",
    "    5: \"Mayo\",       6: \"Junio\",     7: \"Julio\",     8: \"Agosto\",\n",
    "    9: \"Septiembre\", 10: \"Octubre\",  11: \"Noviembre\", 12: \"Diciembre\"\n",
    "}\n",
    "\n",
    "\n",
    "# Extraemos el número de mes con .dt.month y mapeamos al nombre\n",
    "mensualesCV[\"Mes\"] = mensualesCV[\"Fechas\"].dt.month.map(meses_dict)\n",
    "\n",
    "mensualesCV = mensualesCV[(mensualesCV[\"Región\"] != \"No Definido\") & (mensualesCV[\"Comuna\"] != \"No Definido\")] #quitamos los locales que no tienen región o comuna definida\n",
    "\n",
    "mensualesCV = mensualesCV.sort_values(by=[\"Fechas\", \"Región\", \"Comuna\"], ascending=[True, True, True]) #ordenamos\n",
    "\n",
    "\n",
    "\n",
    "mensualesCV"
   ]
  },
  {
   "cell_type": "markdown",
   "id": "5a00653e",
   "metadata": {},
   "source": [
    "Creación dataframe con asistencias y ventas"
   ]
  },
  {
   "cell_type": "code",
   "execution_count": 670,
   "id": "50581895",
   "metadata": {},
   "outputs": [],
   "source": [
    "# agrupamos por (Local, Mes) y contamos el número de filas (size)\n",
    "\n",
    "df_asistencias_por_local_mes = (\n",
    "    asistencias_cv\n",
    "    .groupby([\"Número Local\", \"Mes\"])\n",
    "    .size()  # Cuenta las filas por grupo\n",
    "    .reset_index(name=\"TotalAsistencias\")  # Convierte a DataFrame y nombra la columna\n",
    ")"
   ]
  },
  {
   "cell_type": "code",
   "execution_count": 671,
   "id": "ba2e8f70",
   "metadata": {},
   "outputs": [],
   "source": [
    "#unimos los dataframes de ventas y asistencias\n",
    "\n",
    "df_merged = pd.merge(\n",
    "    mensualesCV,\n",
    "    df_asistencias_por_local_mes,\n",
    "    on=[\"Número Local\", \"Mes\"],\n",
    "    how=\"left\"\n",
    ")\n",
    "\n",
    "df_merged[\"TotalAsistencias\"] = df_merged[\"TotalAsistencias\"].fillna(0) #reemplazamos los NaN por 0, que son los locales sin asistencias\n",
    "\n",
    "\n",
    "# Comparar las ventas entre años (2024-2023)\n",
    "\n",
    "#Estraemos el año y mes en numeros\n",
    "df_merged[\"Año\"] = df_merged[\"Fechas\"].dt.year\n",
    "df_merged[\"Mesdt\"] = df_merged[\"Fechas\"].dt.month\n",
    "\n",
    "# Ordenar datos antes de aplicar shift\n",
    "df_merged.sort_values(by=[\"Número Local\", \"Mesdt\", \"Año\"], inplace=True)\n",
    "#Toma la fila anterior\n",
    "df_merged[\"Ventas Año Anterior\"] = df_merged.groupby([\"Número Local\", \"Mesdt\"])[\"Ventas\"].shift(1)\n",
    "\n",
    "# Para los años donde no hubo ventas en el mes correspondiente, se reemplaza por 0\n",
    "df_merged[\"Ventas Año Anterior\"].fillna(0, inplace=True)\n",
    "\n",
    "# Calculamos el cambio\n",
    "df_merged[\"Cambio $\"] = df_merged[\"Ventas\"] - df_merged[\"Ventas Año Anterior\"]\n",
    "\n",
    "# Dejamos solo las filas del 2024\n",
    "df_merged= df_merged[df_merged['Fechas'].dt.year == 2024]\n",
    "\n",
    "# Quitamos outliers\n",
    "df_merged = df_merged[df_merged[\"Ventas Año Anterior\"] != 0]\n",
    "df_merged = df_merged[df_merged[\"Ventas\"] != 0]\n",
    "df_merged = df_merged[(df_merged[\"Cambio $\"] >= -2.5e6) & (df_merged[\"Cambio $\"] <= 3e6)]\n",
    "\n"
   ]
  },
  {
   "cell_type": "markdown",
   "id": "95ccdacc",
   "metadata": {},
   "source": [
    "# Análisis"
   ]
  },
  {
   "cell_type": "markdown",
   "id": "60852c6f",
   "metadata": {},
   "source": [
    "### Depreciación"
   ]
  },
  {
   "cell_type": "code",
   "execution_count": 672,
   "id": "d5679c72",
   "metadata": {},
   "outputs": [],
   "source": [
    "def peso_lineal(meses):\n",
    "    \"\"\"\n",
    "    peso lineal según los meses transcurridos\n",
    "    0 meses -> 100%\n",
    "    >12 meses -> 10%\n",
    "    \"\"\"\n",
    "    if meses <= 0:\n",
    "        return 1.0\n",
    "    elif meses >= 12:\n",
    "        return 0.1  \n",
    "    else:\n",
    "        # Interpolación lineal\n",
    "        return 1.0 - (1.0 - 0.1)*(meses/12)  # determina el valor de las entradas de 0 a 12 (meses pasados)"
   ]
  },
  {
   "cell_type": "code",
   "execution_count": 673,
   "id": "7fe1274d",
   "metadata": {},
   "outputs": [],
   "source": [
    "#hacemos un merge con la misma matriz, teniendo el cruce de cada mesdt con cada mesdt_ant (1-1, 1-2, ... 1-12, 2-1, 2-2,...)\n",
    "df_merged_2 = df_merged.merge(\n",
    "    df_merged, \n",
    "    on=[\"Número Local\"],       # unen por local\n",
    "    suffixes=(\"\", \"_ant\"),     # sufijos para evitar colisiones\n",
    ")\n",
    "\n",
    "#solo dejar las filas donde el mesdt_ant es menor al mesdt\n",
    "df_merged_2 = df_merged_2[(df_merged_2[\"Mesdt_ant\"] <= df_merged_2[\"Mesdt\"])]\n",
    "\n",
    "#calculamos en cada fila el valor de las capacitaciones multiplicadas por su peso (entonces, vemos el valor de cada totalasistencia_ant en el mesdt)\n",
    "df_merged_2[\"DeltaMeses\"] = df_merged_2[\"Mesdt\"] - df_merged_2[\"Mesdt_ant\"]\n",
    "df_merged_2[\"Peso\"] = df_merged_2[\"DeltaMeses\"].apply(peso_lineal)\n",
    "df_merged_2[\"AsistenciasPonderadas\"] = (\n",
    "    df_merged_2[\"TotalAsistencias_ant\"] * df_merged_2[\"Peso\"]\n",
    ")\n",
    "\n",
    "#agrupamos todos los calculos de asistencias por mes, es decir, cuantas asistencias ponderadas acumuladas hay por mes\n",
    "acumulado = (\n",
    "    df_merged_2\n",
    "    .groupby([\"Número Local\", \"Fechas\", \"Mesdt\"], as_index=False)\n",
    "    [\"AsistenciasPonderadas\"].sum()\n",
    "    .rename(columns={\"AsistenciasPonderadas\": \"CapacitacionesDepreciadas\"})\n",
    ")\n",
    "\n",
    "\n",
    "#unimos el dataframe de ventas y asistencias con el acumulado de capacitaciones\n",
    "df_merged_final = df_merged.merge(\n",
    "    acumulado,\n",
    "    on=[\"Número Local\", \"Fechas\", \"Mesdt\"],\n",
    "    how=\"left\"\n",
    ")\n"
   ]
  },
  {
   "cell_type": "markdown",
   "id": "c756d9e5",
   "metadata": {},
   "source": [
    "### Correlación general / total (todos los datos)"
   ]
  },
  {
   "cell_type": "code",
   "execution_count": 674,
   "id": "baa1d965",
   "metadata": {},
   "outputs": [
    {
     "name": "stdout",
     "output_type": "stream",
     "text": [
      "Correlación entre Ventas y CapacitacionesDepreciadas: 0.19033604949092084\n"
     ]
    }
   ],
   "source": [
    "corr = df_merged_final[\"Cambio $\"].corr(df_merged_final[\"CapacitacionesDepreciadas\"])\n",
    "print(\"Correlación entre Ventas y CapacitacionesDepreciadas:\", corr)\n",
    "\n",
    "#Muy baja correlación, por lo que no se puede concluir que haya una relación entre capacitaciones y ventas.\n",
    "#Analizaremos la relación entre capacitaciones y ventas por región, para ver si hay alguna región que tenga una correlación más alta."
   ]
  },
  {
   "cell_type": "markdown",
   "id": "74356d67",
   "metadata": {},
   "source": [
    "### Correlación por región"
   ]
  },
  {
   "cell_type": "code",
   "execution_count": 675,
   "id": "7743a408",
   "metadata": {},
   "outputs": [
    {
     "data": {
      "image/png": "[encoded data removed]",
      "text/plain": [
       "<Figure size 720x432 with 1 Axes>"
      ]
     },
     "metadata": {
      "needs_background": "light"
     },
     "output_type": "display_data"
    }
   ],
   "source": [
    "correlaciones = []\n",
    "regiones = []\n",
    "\n",
    "for region, grupo in df_merged_final.groupby(\"Región\"):\n",
    "    corr_value = grupo[\"CapacitacionesDepreciadas\"].corr(grupo[\"Cambio $\"])\n",
    "    regiones.append(region)\n",
    "    correlaciones.append(corr_value)\n",
    "    \n",
    "# Creamos un DataFrame con los resultados\n",
    "df_corr = pd.DataFrame({\"Región\": regiones, \"Coef_Corr\": correlaciones})\n",
    "\n",
    "# Graficamos un bar plot\n",
    "plt.figure(figsize=(10,6))\n",
    "bars = plt.bar(df_corr[\"Región\"], df_corr[\"Coef_Corr\"], color='skyblue')\n",
    "plt.xlabel(\"Región\")\n",
    "plt.ylabel(\"Coeficiente de Correlación\")\n",
    "plt.title(\"Coeficiente de Correlación entre Capacitaciones y Cambio en ventas por Región\")\n",
    "plt.xticks(rotation=90)\n",
    "plt.bar_label(bars, fmt=\"%.2f\", padding=3)\n",
    "plt.tight_layout()\n",
    "plt.show()"
   ]
  },
  {
   "cell_type": "code",
   "execution_count": 676,
   "id": "97d181d4",
   "metadata": {},
   "outputs": [],
   "source": [
    "# Determinamos nuestras regiones objetivo, el top 5 con mejor correlación\n",
    "\n",
    "regiones_objetivo_sinM = [\n",
    "    \"01 - Tarapacá\",\n",
    "    #\"02 - Antofagasta\",\n",
    "    #\"03 - Atacama\",\n",
    "    #\"04 - Coquimbo\",\n",
    "    #\"05 - Valparaíso\",\n",
    "    #\"06 - Libertador General Bernardo OHiggins\",\n",
    "    #\"07 - Maule\",\n",
    "    #\"08 - Biobío\",\n",
    "    #\"09 - La Araucanía\",\n",
    "    #\"10 - Los Lagos\",\n",
    "    \"11 - Aysén del General Carlos Ibañez del Campo\",\n",
    "    #\"12 - Magallanes y de la Antártica Chilena\",\n",
    "    #\"13 - Metropolitana de Santiago\",\n",
    "    #\"14 - Los Ríos\",\n",
    "    \"15 - Arica y Parinacota\",\n",
    "    \"16 - Ñuble\"\n",
    "]\n",
    "\n",
    "regiones_objetivo = [\n",
    "    \"01 - Tarapacá\",\n",
    "    #\"02 - Antofagasta\",\n",
    "    #\"03 - Atacama\",\n",
    "    #\"04 - Coquimbo\",\n",
    "    #\"05 - Valparaíso\",\n",
    "    #\"06 - Libertador General Bernardo OHiggins\",\n",
    "    #\"07 - Maule\",\n",
    "    #\"08 - Biobío\",\n",
    "    #\"09 - La Araucanía\",\n",
    "    #\"10 - Los Lagos\",\n",
    "    \"11 - Aysén del General Carlos Ibañez del Campo\",\n",
    "    #\"12 - Magallanes y de la Antártica Chilena\",\n",
    "    \"13 - Metropolitana de Santiago\",\n",
    "    #\"14 - Los Ríos\",\n",
    "    \"15 - Arica y Parinacota\",\n",
    "    \"16 - Ñuble\"\n",
    "]"
   ]
  },
  {
   "cell_type": "code",
   "execution_count": 677,
   "id": "2b4bf97d",
   "metadata": {},
   "outputs": [
    {
     "name": "stdout",
     "output_type": "stream",
     "text": [
      "Cantidad de filas con Región '13 - Metropolitana de Santiago': 3451\n"
     ]
    }
   ],
   "source": [
    "cantidad_filas_rm = df_merged_final[df_merged_final['Región'] == '13 - Metropolitana de Santiago'].shape[0]\n",
    "print(f\"Cantidad de filas con Región '13 - Metropolitana de Santiago': {cantidad_filas_rm}\")\n"
   ]
  },
  {
   "cell_type": "code",
   "execution_count": 678,
   "id": "6df05dd5",
   "metadata": {},
   "outputs": [
    {
     "name": "stdout",
     "output_type": "stream",
     "text": [
      "Tamaño promedio de muestra a usar: 109\n"
     ]
    },
    {
     "data": {
      "text/plain": [
       "01 - Tarapacá                                     183\n",
       "13 - Metropolitana de Santiago                    109\n",
       "16 - Ñuble                                        100\n",
       "15 - Arica y Parinacota                            94\n",
       "11 - Aysén del General Carlos Ibañez del Campo     60\n",
       "Name: Región, dtype: int64"
      ]
     },
     "execution_count": 678,
     "metadata": {},
     "output_type": "execute_result"
    }
   ],
   "source": [
    "df_otras = df_merged_final[df_merged_final['Región'].isin(regiones_objetivo_sinM)]\n",
    "\n",
    "# Calcular la cantidad de locales por región\n",
    "tamaño_promedio = df_otras.groupby('Región').size().mean()\n",
    "tamaño_promedio = int(round(tamaño_promedio))  # redondear al entero más cercano\n",
    "print(f\"Tamaño promedio de muestra a usar: {tamaño_promedio}\")\n",
    "\n",
    "df_rm = df_merged_final[df_merged_final['Región'] == '13 - Metropolitana de Santiago']\n",
    "\n",
    "# Tomar muestra aleatoria del tamaño calculado\n",
    "df_rm_muestra = df_rm.sample(n=tamaño_promedio, random_state=42) \n",
    "df_merged_final = pd.concat([df_otras, df_rm_muestra], ignore_index=True)\n",
    "df_merged_final['Región'].value_counts()"
   ]
  },
  {
   "cell_type": "code",
   "execution_count": 679,
   "id": "32257048",
   "metadata": {},
   "outputs": [],
   "source": [
    "df_merged_final[\"Cambio_%\"] = (\n",
    "    (df_merged_final[\"Ventas\"] - df_merged_final[\"Ventas Año Anterior\"]) / df_merged_final[\"Ventas Año Anterior\"]\n",
    ") * 100\n",
    "# Eliminar infinitos y valores extremos poco confiables \n",
    "df_merged_final = df_merged_final.replace([np.inf, -np.inf], np.nan)\n",
    "df_merged_final = df_merged_final.dropna(subset=[\"Cambio_%\"])\n",
    "q_low = df_merged_final[\"Cambio_%\"].quantile(0.01)\n",
    "q_high = df_merged_final[\"Cambio_%\"].quantile(0.99)\n",
    "\n",
    "df_merged_final = df_merged_final[(df_merged_final[\"Cambio_%\"] >= q_low) & (df_merged_final[\"Cambio_%\"] <= q_high)]"
   ]
  },
  {
   "cell_type": "markdown",
   "id": "6a61278d",
   "metadata": {},
   "source": [
    "### Regresión no lineal con el Modelo Michaelis-Menten"
   ]
  },
  {
   "cell_type": "code",
   "execution_count": 680,
   "id": "1001bead",
   "metadata": {},
   "outputs": [
    {
     "name": "stdout",
     "output_type": "stream",
     "text": [
      "Región: 01 - Tarapacá, a=2024213.65, b=13.34\n"
     ]
    },
    {
     "data": {
      "image/png": "[encoded data removed]",
      "text/plain": [
       "<Figure size 576x432 with 1 Axes>"
      ]
     },
     "metadata": {
      "needs_background": "light"
     },
     "output_type": "display_data"
    },
    {
     "name": "stdout",
     "output_type": "stream",
     "text": [
      "Región: 11 - Aysén del General Carlos Ibañez del Campo, a=920981.09, b=0.66\n"
     ]
    },
    {
     "data": {
      "image/png": "[encoded data removed]",
      "text/plain": [
       "<Figure size 576x432 with 1 Axes>"
      ]
     },
     "metadata": {
      "needs_background": "light"
     },
     "output_type": "display_data"
    },
    {
     "name": "stdout",
     "output_type": "stream",
     "text": [
      "Región: 13 - Metropolitana de Santiago, a=351447.72, b=0.00\n"
     ]
    },
    {
     "data": {
      "image/png": "[encoded data removed]",
      "text/plain": [
       "<Figure size 576x432 with 1 Axes>"
      ]
     },
     "metadata": {
      "needs_background": "light"
     },
     "output_type": "display_data"
    },
    {
     "name": "stdout",
     "output_type": "stream",
     "text": [
      "Región: 15 - Arica y Parinacota, a=1918968219455.87, b=18994910.55\n"
     ]
    },
    {
     "data": {
      "image/png": "[encoded data removed]",
      "text/plain": [
       "<Figure size 576x432 with 1 Axes>"
      ]
     },
     "metadata": {
      "needs_background": "light"
     },
     "output_type": "display_data"
    },
    {
     "name": "stdout",
     "output_type": "stream",
     "text": [
      "Región: 16 - Ñuble, a=167678765861.34, b=645416.10\n"
     ]
    },
    {
     "data": {
      "image/png": "[encoded data removed]",
      "text/plain": [
       "<Figure size 576x432 with 1 Axes>"
      ]
     },
     "metadata": {
      "needs_background": "light"
     },
     "output_type": "display_data"
    }
   ],
   "source": [
    "df_merged_final = df_merged_final.rename(columns={\"Cambio $\": \"CambioPesos\"})\n",
    "parametros_por_region = {}\n",
    "r2_por_region = {}\n",
    "\n",
    "def saturating_model(x, a, b):\n",
    "    # Modelo saturante (Michaelis-Menten)\n",
    "    return (a * x) / (b + x)\n",
    "\n",
    "for region, grupo in df_merged_final.groupby(\"Región\"):\n",
    "    if region not in regiones_objetivo:\n",
    "        continue # Solo procesar las regiones objetivo\n",
    "    x_data = grupo[\"CapacitacionesDepreciadas\"].values\n",
    "    y_data = grupo[\"CambioPesos\"].values\n",
    "    \n",
    "\n",
    "    # Valor inicial para a (p0), le asignamos el mayor aumento en ventas\n",
    "    p0 = [max(y_data), 1]\n",
    "    lower_bounds = [0, 0]        # a >= 0, b >= 0\n",
    "    upper_bounds = [np.inf, np.inf]  # sin límite superior\n",
    "    \n",
    "    try:\n",
    "        params, cov = curve_fit(\n",
    "            saturating_model,\n",
    "            x_data,\n",
    "            y_data,\n",
    "            p0=p0,\n",
    "            bounds=(lower_bounds, upper_bounds),\n",
    "            maxfev=10000 #cantidad de evaluaciones\n",
    "        )\n",
    "        a_est, b_est = params\n",
    "\n",
    "#        # Guardamos los datos por region\n",
    "        parametros_por_region[region] = (a_est, b_est)\n",
    "\n",
    "        y_pred = saturating_model(x_data, a_est, b_est)\n",
    "\n",
    "        ss_res = np.sum((y_data - y_pred)**2)\n",
    "        ss_tot = np.sum((y_data - y_data.mean())**2)\n",
    "        r2 = 1 - ss_res / ss_tot\n",
    "\n",
    "        r2_por_region[region] = r2\n",
    "\n",
    "\n",
    "        print(f\"Región: {region}, a={a_est:.2f}, b={b_est:.2f}\")\n",
    "        \n",
    "        # Graficar el ajuste\n",
    "        x_fit = np.linspace(min(x_data), max(x_data), 100)\n",
    "        y_fit = saturating_model(x_fit, a_est, b_est)\n",
    "        \n",
    "        plt.figure(figsize=(8,6))\n",
    "        plt.scatter(x_data, y_data, alpha=0.5, label=\"Datos\")\n",
    "        plt.plot(x_fit, y_fit, color='red', linewidth=2,\n",
    "                 label=f\"Modelo: y={a_est:.2f}x/({b_est:.2f}+x)\")\n",
    "        plt.xlabel(\"Capacitaciones\")\n",
    "        plt.ylabel(\"Aumento en CLP\")\n",
    "        plt.title(f\"Modelo Saturante - Región: {region}\")\n",
    "        plt.legend()\n",
    "        plt.tight_layout()\n",
    "        plt.show()\n",
    "    except Exception as e:\n",
    "        print(f\"Error al ajustar el modelo en la región {region}: {e}\")"
   ]
  },
  {
   "cell_type": "code",
   "execution_count": 681,
   "id": "9ef70ae7",
   "metadata": {},
   "outputs": [
    {
     "name": "stdout",
     "output_type": "stream",
     "text": [
      "\n",
      "📊 R² ponderado nacional = 0.183\n"
     ]
    }
   ],
   "source": [
    "# Crear DataFrame con R² y cantidad de datos por región\n",
    "df_r2 = pd.DataFrame.from_dict(r2_por_region, orient='index', columns=[\"R2\"])\n",
    "df_r2[\"n\"] = df_r2.index.map(df_merged_final[\"Región\"].value_counts())\n",
    "\n",
    "# Limpiar regiones sin datos o con R2 faltante\n",
    "df_r2 = df_r2.dropna().query(\"n > 0\")\n",
    "\n",
    "# Calcular R² ponderado\n",
    "if not df_r2.empty:\n",
    "    r2_ponderado = (df_r2[\"R2\"] * df_r2[\"n\"]).sum() / df_r2[\"n\"].sum()\n",
    "    print(f\"\\n📊 R² ponderado nacional = {r2_ponderado:.3f}\")\n",
    "else:\n",
    "    print(\"⚠️ No hay datos válidos para calcular el R² ponderado.\")"
   ]
  },
  {
   "cell_type": "markdown",
   "id": "e464e670",
   "metadata": {},
   "source": [
    "## Comparación al aumentar una capacitación en la cantidad de capacitaciones de Diciembre\n"
   ]
  },
  {
   "cell_type": "code",
   "execution_count": 682,
   "id": "7a14ca63",
   "metadata": {},
   "outputs": [
    {
     "name": "stdout",
     "output_type": "stream",
     "text": [
      "Locales con al menos 1 capacitacion en el año\n"
     ]
    },
    {
     "data": {
      "text/plain": [
       "Región\n",
       "01 - Tarapacá                                     4\n",
       "11 - Aysén del General Carlos Ibañez del Campo    3\n",
       "13 - Metropolitana de Santiago                    1\n",
       "15 - Arica y Parinacota                           2\n",
       "16 - Ñuble                                        3\n",
       "Name: Número Local, dtype: int64"
      ]
     },
     "metadata": {},
     "output_type": "display_data"
    },
    {
     "name": "stdout",
     "output_type": "stream",
     "text": [
      "-----------------------\n",
      "Locales parte de las regiones de interés\n"
     ]
    },
    {
     "data": {
      "text/plain": [
       "Región\n",
       "01 - Tarapacá                                     16\n",
       "11 - Aysén del General Carlos Ibañez del Campo     5\n",
       "13 - Metropolitana de Santiago                    10\n",
       "15 - Arica y Parinacota                            8\n",
       "16 - Ñuble                                         9\n",
       "Name: Número Local, dtype: int64"
      ]
     },
     "execution_count": 682,
     "metadata": {},
     "output_type": "execute_result"
    }
   ],
   "source": [
    "#Vemos con cuantos locales tendríamos que trabajar\n",
    "\n",
    "# 1. Mes de interés\n",
    "mes_mas_actual = \"Diciembre\"\n",
    "df_filtrado = df_merged_final[df_merged_final[\"Región\"].isin(regiones_objetivo)]\n",
    "locales_unicos_concap = df_filtrado[df_filtrado[\"CapacitacionesDepreciadas\"] >= 1][\"Número Local\"].unique()\n",
    "\n",
    "len(locales_unicos_concap)\n",
    "# 2. Filtramos el DataFrame a ese mes\n",
    "df_last_month = df_filtrado[df_filtrado[\"Mes\"] == mes_mas_actual].copy()\n",
    "\n",
    "print(\"Locales con al menos 1 capacitacion en el año\")\n",
    "locales_filtrados = df_last_month[df_last_month[\"Número Local\"].isin(locales_unicos_concap)]\n",
    "display(locales_filtrados.groupby(\"Región\")[\"Número Local\"].nunique())\n",
    "print(\"-----------------------\")\n",
    "print(\"Locales parte de las regiones de interés\")\n",
    "df_last_month.groupby(\"Región\")[\"Número Local\"].nunique() #Locales por región con correlación"
   ]
  },
  {
   "cell_type": "markdown",
   "id": "975cef01",
   "metadata": {},
   "source": [
    "### Locales que fueron capacitados al menos una vez en el año y son parte de las regiones de interés"
   ]
  },
  {
   "cell_type": "code",
   "execution_count": 683,
   "id": "f5b96846",
   "metadata": {},
   "outputs": [
    {
     "name": "stdout",
     "output_type": "stream",
     "text": [
      "Mes donde se agregan capacitaciones: Diciembre\n",
      "Locales seleccionados: 13\n",
      "Impacto total al aumentar en +1 capacitación en locales seleccionados: 1708245.9704220002\n",
      "Impacto promedio por local seleccionado: 131403.5361863077\n"
     ]
    }
   ],
   "source": [
    "\n",
    "# Máscara de locales a los que se les aplicará X+1, solo contamos los que tuvieron capacitación\n",
    "mask_seleccionados = df_last_month[\"Número Local\"].isin(locales_unicos_concap)\n",
    "\n",
    "\n",
    "def saturating_model(x, a, b):\n",
    "    return (a * x) / (b + x)\n",
    "\n",
    "#ORIGINAL\n",
    "def apply_saturating(row):\n",
    "    \"\"\"Escenario original (CapacitacionesDepreciadas sin modificar).\"\"\"\n",
    "    region_actual = row[\"Región\"]\n",
    "    x_val = row[\"CapacitacionesDepreciadas\"]\n",
    "    a_reg, b_reg = parametros_por_region.get(region_actual, (0, 1)) #ojo, usamos parametros distintos según la región de la fila\n",
    "    return saturating_model(x_val, a_reg, b_reg)\n",
    "\n",
    "#+1 CAPACITACIÓN\n",
    "def apply_saturating_plus1(row):\n",
    "    \"\"\"Escenario con +1 capacitación.\"\"\"\n",
    "    region_actual = row[\"Región\"]\n",
    "    x_val = row[\"CapacitacionesDepreciadas\"] + 1\n",
    "    a_reg, b_reg = parametros_por_region.get(region_actual, (0, 1))\n",
    "    return saturating_model(x_val, a_reg, b_reg)\n",
    "\n",
    "#ORIGINAL\n",
    "df_last_month[\"pred_original\"] = df_last_month.apply(apply_saturating, axis=1)\n",
    "\n",
    "# Copiamos \"pred_original\" en pred_plus_1 \n",
    "df_last_month[\"pred_plus_1\"] = df_last_month[\"pred_original\"].copy()\n",
    "\n",
    "\n",
    "#Solo a los locales seleccionados, les aplicamos la función que suma +1\n",
    "\n",
    "df_last_month.loc[mask_seleccionados, \"pred_plus_1\"] = (\n",
    "    df_last_month.loc[mask_seleccionados].apply(apply_saturating_plus1, axis=1)\n",
    ")\n",
    "\n",
    "\n",
    "# Obtenemos la diferencia\n",
    "\n",
    "df_last_month[\"diff\"] = df_last_month[\"pred_plus_1\"] - df_last_month[\"pred_original\"]\n",
    "\n",
    "# Efecto total y promedio solo para locales seleccionados\n",
    "impacto_total_ultimo_mes = df_last_month.loc[mask_seleccionados, \"diff\"].sum()\n",
    "impacto_promedio_ultimo_mes = df_last_month.loc[mask_seleccionados, \"diff\"].mean()\n",
    "\n",
    "print(\"Mes donde se agregan capacitaciones:\", mes_mas_actual)\n",
    "print(\"Locales seleccionados:\", sum(mask_seleccionados))\n",
    "print(\"Impacto total al aumentar en +1 capacitación en locales seleccionados:\", impacto_total_ultimo_mes)\n",
    "print(\"Impacto promedio por local seleccionado:\", impacto_promedio_ultimo_mes)\n"
   ]
  },
  {
   "cell_type": "markdown",
   "id": "be4c1a82",
   "metadata": {},
   "source": [
    "### Locales que no tuvieron capacitación en el año y son parte de las regiones de interés"
   ]
  },
  {
   "cell_type": "code",
   "execution_count": 684,
   "id": "8517e2a8",
   "metadata": {},
   "outputs": [
    {
     "name": "stdout",
     "output_type": "stream",
     "text": [
      "Mes donde se agregan capacitaciones: Diciembre\n",
      "Locales seleccionados: 35\n",
      "Impacto total al aumentar en +1 capacitación: 8134596.827484151\n",
      "Impacto promedio por local: 232417.05221383288\n"
     ]
    }
   ],
   "source": [
    "\n",
    "\n",
    "mes_mas_actual = \"Diciembre\"\n",
    "\n",
    "#Filtramos el DataFrame a ese mes y donde CapacitacionesDepreciadas sea 0\n",
    "df_last_month = df_filtrado[\n",
    "    (df_filtrado[\"Mes\"] == mes_mas_actual) & \n",
    "    (df_filtrado[\"CapacitacionesDepreciadas\"] == 0)\n",
    "].copy()\n",
    "\n",
    "\n",
    "def saturating_model(x, a, b):\n",
    "    return (a * x) / (b + x)\n",
    "\n",
    "#ORIGINAL\n",
    "def apply_saturating(row):\n",
    "    \"\"\"Escenario original (CapacitacionesDepreciadas sin modificar).\"\"\"\n",
    "    region_actual = row[\"Región\"]\n",
    "    x_val = row[\"CapacitacionesDepreciadas\"]\n",
    "    a_reg, b_reg = parametros_por_region.get(region_actual, (0, 1)) \n",
    "    return saturating_model(x_val, a_reg, b_reg)\n",
    "\n",
    "#+1 CAPACITACIÓN\n",
    "def apply_saturating_plus1(row):\n",
    "    \"\"\"Escenario con +1 (solo se usará en los locales seleccionados).\"\"\"\n",
    "    region_actual = row[\"Región\"]\n",
    "    x_val = row[\"CapacitacionesDepreciadas\"] + 1\n",
    "    a_reg, b_reg = parametros_por_region.get(region_actual, (0, 1))\n",
    "    return saturating_model(x_val, a_reg, b_reg)\n",
    "\n",
    "#ORIGINAL\n",
    "df_last_month[\"pred_original\"] = df_last_month.apply(apply_saturating, axis=1)\n",
    "\n",
    "# Copiamos \"pred_original\" en pred_plus_1 \n",
    "df_last_month[\"pred_plus_1\"] = df_last_month[\"pred_original\"].copy()\n",
    "\n",
    "#Solo a los locales seleccionados, les aplicamos la función que suma +1\n",
    "df_last_month[\"pred_plus_1\"] = df_last_month.apply(apply_saturating_plus1, axis=1)\n",
    "\n",
    "# Obtenemos la diferencia\n",
    "df_last_month[\"diff\"] = df_last_month[\"pred_plus_1\"] - df_last_month[\"pred_original\"]\n",
    "\n",
    "# Efecto total y promedio solo para locales seleccionados\n",
    "impacto_total_ultimo_mes = df_last_month[\"diff\"].sum()\n",
    "impacto_promedio_ultimo_mes = df_last_month[\"diff\"].mean()\n",
    "\n",
    "\n",
    "# Efecto total y promedio solo para locales seleccionados\n",
    "print(\"Mes donde se agregan capacitaciones:\", mes_mas_actual)\n",
    "print(\"Locales seleccionados:\", len(df_last_month))\n",
    "print(\"Impacto total al aumentar en +1 capacitación:\", impacto_total_ultimo_mes)\n",
    "print(\"Impacto promedio por local:\", impacto_promedio_ultimo_mes)"
   ]
  },
  {
   "cell_type": "markdown",
   "id": "d9873b98",
   "metadata": {},
   "source": [
    "### Todos los locales parte de las regiones de interés"
   ]
  },
  {
   "cell_type": "code",
   "execution_count": 685,
   "id": "2907b9a7",
   "metadata": {},
   "outputs": [
    {
     "name": "stdout",
     "output_type": "stream",
     "text": [
      "Mes donde se agregan capacitaciones: Diciembre\n",
      "Locales seleccionados: 48\n",
      "Impacto total al aumentar en +1 capacitación en locales seleccionados: 9842842.79790615\n",
      "Impacto promedio por local seleccionado: 205059.22495637814\n",
      "Promedio mensual total de ventas (todos los locales analizados): $38,310,130.73\n",
      "Impacto total como % del promedio mensual de esos locales: 25.69%\n"
     ]
    }
   ],
   "source": [
    "\n",
    "mes_mas_actual = \"Diciembre\"\n",
    "\n",
    "df_last_month = df_filtrado[df_filtrado[\"Mes\"] == mes_mas_actual].copy()\n",
    "\n",
    "\n",
    "\n",
    "def saturating_model(x, a, b):\n",
    "    return (a * x) / (b + x)\n",
    "\n",
    "\n",
    "#ORIGINAL\n",
    "def apply_saturating(row):\n",
    "    \"\"\"Escenario original (CapacitacionesDepreciadas sin modificar).\"\"\"\n",
    "    region_actual = row[\"Región\"]\n",
    "    x_val = row[\"CapacitacionesDepreciadas\"]\n",
    "    a_reg, b_reg = parametros_por_region.get(region_actual, (0, 1)) \n",
    "    return saturating_model(x_val, a_reg, b_reg)\n",
    "\n",
    "\n",
    "#+1 CAPACITACIÓN\n",
    "def apply_saturating_plus1(row):\n",
    "    \"\"\"Escenario con +1 (solo se usará en los locales seleccionados).\"\"\"\n",
    "    region_actual = row[\"Región\"]\n",
    "    x_val = row[\"CapacitacionesDepreciadas\"] + 1\n",
    "    a_reg, b_reg = parametros_por_region.get(region_actual, (0, 1))\n",
    "    return saturating_model(x_val, a_reg, b_reg)\n",
    "\n",
    "\n",
    "#ORIGINAL\n",
    "df_last_month[\"pred_original\"] = df_last_month.apply(apply_saturating, axis=1)\n",
    "\n",
    "# Copiamos \"pred_original\" en pred_plus_1\n",
    "df_last_month[\"pred_plus_1\"] = df_last_month[\"pred_original\"].copy()\n",
    "\n",
    "#Solo a los locales seleccionados, les aplicamos la función que suma +1\n",
    "df_last_month[\"pred_plus_1\"] = df_last_month.apply(apply_saturating_plus1, axis=1)\n",
    "\n",
    "# Obtenemos la diferencia\n",
    "df_last_month[\"diff\"] = df_last_month[\"pred_plus_1\"] - df_last_month[\"pred_original\"]\n",
    "\n",
    "# Efecto total y promedio solo para locales seleccionados\n",
    "impacto_total_ultimo_mes = df_last_month[\"diff\"].sum()\n",
    "impacto_promedio_ultimo_mes = df_last_month[\"diff\"].mean()\n",
    "\n",
    "print(\"Mes donde se agregan capacitaciones:\", mes_mas_actual)\n",
    "print(\"Locales seleccionados:\", len(df_last_month))\n",
    "print(\"Impacto total al aumentar en +1 capacitación en locales seleccionados:\", impacto_total_ultimo_mes)\n",
    "print(\"Impacto promedio por local seleccionado:\", impacto_promedio_ultimo_mes)\n",
    "\n",
    "\n",
    "#Porcentaje del sellout promedio total\n",
    "\n",
    "locales_analizados = df_last_month[\"Número Local\"].unique()\n",
    "mask_locales = df_merged_final[\"Número Local\"].isin(locales_analizados)\n",
    "df_mismos_locales = df_merged_final[mask_locales]\n",
    "ventas_mensuales = df_mismos_locales.groupby(\"Mes\")[\"Ventas\"].sum().reset_index()\n",
    "promedio_mensual_total = ventas_mensuales[\"Ventas\"].mean()\n",
    "porcentaje_impacto = impacto_total_ultimo_mes / promedio_mensual_total * 100\n",
    "\n",
    "# 6. Imprimir resultados\n",
    "print(f\"Promedio mensual total de ventas (todos los locales analizados): ${promedio_mensual_total:,.2f}\")\n",
    "print(f\"Impacto total como % del promedio mensual de esos locales: {porcentaje_impacto:,.2f}%\")\n"
   ]
  },
  {
   "cell_type": "markdown",
   "id": "ead8f0a6",
   "metadata": {},
   "source": []
  },
  {
   "cell_type": "markdown",
   "id": "36a1b908",
   "metadata": {},
   "source": [
    "# Análisis comparativo entre locales con y sin capacitación"
   ]
  },
  {
   "cell_type": "code",
   "execution_count": 686,
   "id": "c1d3243f",
   "metadata": {},
   "outputs": [
    {
     "name": "stdout",
     "output_type": "stream",
     "text": [
      "              Grupo  Promedio cambio %  Mediana cambio %  Desviación estándar  \\\n",
      "0  Con capacitación          49.754531         28.122603            81.373596   \n",
      "1  Sin capacitación          48.151962         10.865224           142.901379   \n",
      "\n",
      "   Observaciones  \n",
      "0            114  \n",
      "1            420  \n"
     ]
    }
   ],
   "source": [
    "df_filtrado_f = df_merged_final.copy()#[df_merged_final[\"Región\"].isin(regiones_objetivo)]\n",
    "# Crear dos grupos\n",
    "con_cap = df_filtrado_f[df_filtrado_f[\"CapacitacionesDepreciadas\"] > 0]\n",
    "sin_cap = df_filtrado_f[df_filtrado_f[\"CapacitacionesDepreciadas\"] == 0]\n",
    "\n",
    "# Calcular y mostrar estadísticas descriptivas\n",
    "resumen = pd.DataFrame({\n",
    "    \"Grupo\": [\"Con capacitación\", \"Sin capacitación\"],\n",
    "    \"Promedio cambio %\": [con_cap[\"Cambio_%\"].mean(), sin_cap[\"Cambio_%\"].mean()],\n",
    "    \"Mediana cambio %\": [con_cap[\"Cambio_%\"].median(), sin_cap[\"Cambio_%\"].median()],\n",
    "    \"Desviación estándar\": [con_cap[\"Cambio_%\"].std(), sin_cap[\"Cambio_%\"].std()],\n",
    "    \"Observaciones\": [len(con_cap), len(sin_cap)]\n",
    "})\n",
    "\n",
    "print(resumen)"
   ]
  },
  {
   "cell_type": "code",
   "execution_count": 687,
   "id": "86f6d149",
   "metadata": {},
   "outputs": [
    {
     "data": {
      "image/png": "[encoded data removed]",
      "text/plain": [
       "<Figure size 576x432 with 1 Axes>"
      ]
     },
     "metadata": {
      "needs_background": "light"
     },
     "output_type": "display_data"
    }
   ],
   "source": [
    "df_plot = pd.concat([\n",
    "    con_cap.assign(Grupo='Con capacitación'),\n",
    "    sin_cap.assign(Grupo='Sin capacitación')\n",
    "])\n",
    "\n",
    "plt.figure(figsize=(8, 6))\n",
    "sns.boxplot(x='Grupo', y='Cambio_%', data=df_plot, showfliers=True)  # O showfliers=False si quieres ocultar outliers\n",
    "plt.ylabel('Cambio porcentual en ventas (%)')\n",
    "plt.xlabel('')\n",
    "plt.title('Variación de ventas según capacitación')\n",
    "plt.ylim(-100, 200)\n",
    "plt.show()"
   ]
  },
  {
   "cell_type": "code",
   "execution_count": 688,
   "id": "15444db9",
   "metadata": {},
   "outputs": [
    {
     "name": "stdout",
     "output_type": "stream",
     "text": [
      "              Grupo  Promedio cambio $  Mediana cambio $  \\\n",
      "0  Con capacitación      414201.358421         280541.31   \n",
      "1  Sin capacitación       44578.666500          25763.50   \n",
      "\n",
      "   Desviación estándar $  Observaciones  \n",
      "0          569977.284654            114  \n",
      "1          229846.129564            420  \n"
     ]
    }
   ],
   "source": [
    "# Crear los grupos según capacitación\n",
    "con_cap = df_filtrado_f[df_filtrado_f[\"CapacitacionesDepreciadas\"] > 0 ]\n",
    "sin_cap = df_filtrado_f[df_filtrado_f[\"CapacitacionesDepreciadas\"] == 0]\n",
    "\n",
    "# Resumen del cambio en pesos\n",
    "resumen_valor = pd.DataFrame({\n",
    "    \"Grupo\": [\"Con capacitación\", \"Sin capacitación\"],\n",
    "    \"Promedio cambio $\": [con_cap[\"CambioPesos\"].mean(), sin_cap[\"CambioPesos\"].mean()],\n",
    "    \"Mediana cambio $\": [con_cap[\"CambioPesos\"].median(), sin_cap[\"CambioPesos\"].median()],\n",
    "    \"Desviación estándar $\": [con_cap[\"CambioPesos\"].std(), sin_cap[\"CambioPesos\"].std()],\n",
    "    \"Observaciones\": [len(con_cap), len(sin_cap)]\n",
    "})\n",
    "\n",
    "print(resumen_valor)"
   ]
  },
  {
   "cell_type": "code",
   "execution_count": 689,
   "id": "aff7e6ee",
   "metadata": {},
   "outputs": [
    {
     "name": "stdout",
     "output_type": "stream",
     "text": [
      "Diferencia total acumulada: $28,495,915\n"
     ]
    }
   ],
   "source": [
    "total_con_cap = con_cap[\"CambioPesos\"].sum()\n",
    "total_sin_cap = sin_cap[\"CambioPesos\"].sum()\n",
    "diferencia_total = total_con_cap - total_sin_cap\n",
    "print(f\"Diferencia total acumulada: ${diferencia_total:,.0f}\")\n"
   ]
  },
  {
   "cell_type": "code",
   "execution_count": 690,
   "id": "675ad127",
   "metadata": {},
   "outputs": [
    {
     "name": "stdout",
     "output_type": "stream",
     "text": [
      "Diferencia promedio: $369,622.69\n"
     ]
    }
   ],
   "source": [
    "promedio_con = con_cap[\"CambioPesos\"].mean()\n",
    "promedio_sin = sin_cap[\"CambioPesos\"].mean()\n",
    "\n",
    "diferencia_promedio = promedio_con - promedio_sin\n",
    "print(f\"Diferencia promedio: ${diferencia_promedio:,.2f}\")\n"
   ]
  }
 ],
 "metadata": {
  "kernelspec": {
   "display_name": "Python 3",
   "language": "python",
   "name": "python3"
  },
  "language_info": {
   "codemirror_mode": {
    "name": "ipython",
    "version": 3
   },
   "file_extension": ".py",
   "mimetype": "text/x-python",
   "name": "python",
   "nbconvert_exporter": "python",
   "pygments_lexer": "ipython3",
   "version": "3.9.12"
  }
 },
 "nbformat": 4,
 "nbformat_minor": 5
}
